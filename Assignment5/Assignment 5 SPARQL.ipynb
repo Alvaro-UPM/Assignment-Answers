{
 "cells": [
  {
   "cell_type": "markdown",
   "id": "f4dd638a",
   "metadata": {},
   "source": [
    "Assignment 5 - SPARQL queries\n",
    "\n",
    "Student: Álvaro García López"
   ]
  },
  {
   "cell_type": "code",
   "execution_count": 1,
   "id": "f2f3a61a",
   "metadata": {},
   "outputs": [
    {
     "data": {
      "text/html": [
       "<div class=\"krn-spql\"><div class=\"magic\">Endpoint set to: https://sparql.uniprot.org/sparql</div><div class=\"magic\">Request format: JSON</div></div>"
      ],
      "text/plain": [
       "Endpoint set to: https://sparql.uniprot.org/sparql\n",
       "Request format: JSON\n"
      ]
     },
     "metadata": {},
     "output_type": "display_data"
    }
   ],
   "source": [
    "%endpoint https://sparql.uniprot.org/sparql \n",
    "#we set the endpoint of UniProtKB (the database in which we are going to ask the queries)\n",
    "\n",
    "%format JSON\n",
    "# We define the format as JSON"
   ]
  },
  {
   "cell_type": "markdown",
   "id": "32e748d7",
   "metadata": {},
   "source": [
    "Q1: 1 POINT  How many protein records are in UniProt? "
   ]
  },
  {
   "cell_type": "code",
   "execution_count": 2,
   "id": "42ac6954",
   "metadata": {},
   "outputs": [
    {
     "data": {
      "text/html": [
       "<div class=\"krn-spql\"><table><tr class=hdr><th>protein_records</th></tr><tr class=odd><td class=val>360157660</td></tr></table><div class=\"tinfo\">Total: 1, Shown: 1</div></div>"
      ]
     },
     "metadata": {},
     "output_type": "display_data"
    }
   ],
   "source": [
    "PREFIX up: <http://purl.uniprot.org/core/>\n",
    "# We use prefix to make easier the syntax in the WHERE part (\"syntatic sugar\")\n",
    "\n",
    "SELECT (COUNT (?protein) AS ?protein_records) \n",
    "# We use the COUNT function to ask for the number of all the protein records in UniProtKB database\n",
    "\n",
    "# Since the only \"restriction\" for the count is to be a UniProt protein record,\n",
    "# we ask for the database rdf \"resources\" with a rdf:type (\"a\") as predicate \n",
    "# is \"linked\" to \"up:Protein\" resource \n",
    "WHERE {\n",
    "    ?protein a up:Protein .\n",
    "}"
   ]
  },
  {
   "cell_type": "markdown",
   "id": "59caf1e6",
   "metadata": {},
   "source": [
    "Q2: 1 POINT How many Arabidopsis thaliana protein records are in UniProt? "
   ]
  },
  {
   "cell_type": "code",
   "execution_count": 3,
   "id": "71a63513",
   "metadata": {},
   "outputs": [
    {
     "data": {
      "text/html": [
       "<div class=\"krn-spql\"><table><tr class=hdr><th>Arabidopsis_thaliana_records</th></tr><tr class=odd><td class=val>136782</td></tr></table><div class=\"tinfo\">Total: 1, Shown: 1</div></div>"
      ]
     },
     "metadata": {},
     "output_type": "display_data"
    }
   ],
   "source": [
    "PREFIX up: <http://purl.uniprot.org/core/>\n",
    "\n",
    "SELECT (COUNT (?protein) AS ?Arabidopsis_thaliana_records)\n",
    "\n",
    "# Same idea, asking for the organism scientic name associated with the protein (in this case \"Arabidopsis thaliana\")\n",
    "WHERE {\n",
    "    ?protein a up:Protein .\n",
    "    ?protein up:organism ?specie .\n",
    "    ?specie up:scientificName \"Arabidopsis thaliana\" .\n",
    "}"
   ]
  },
  {
   "cell_type": "markdown",
   "id": "4c053c72",
   "metadata": {},
   "source": [
    "Q3: 1 POINT retrieve pictures of Arabidopsis thaliana from UniProt? "
   ]
  },
  {
   "cell_type": "code",
   "execution_count": 4,
   "id": "d438ea7a",
   "metadata": {},
   "outputs": [
    {
     "data": {
      "text/html": [
       "<div class=\"krn-spql\"><table><tr class=hdr><th>pictures</th></tr><tr class=odd><td class=val><a href=\"https://upload.wikimedia.org/wikipedia/commons/3/39/Arabidopsis.jpg\" target=\"_other\">https://upload.wikimedia.org/wikipedia/commons/3/39/Arabidopsis.jpg</a></td></tr><tr class=even><td class=val><a href=\"https://upload.wikimedia.org/wikipedia/commons/thumb/6/60/Arabidopsis_thaliana_inflorescencias.jpg/800px-Arabidopsis_thaliana_inflorescencias.jpg\" target=\"_other\">https://upload.wikimedia.org/wikipedia/commons/thumb/6/60/Arabidopsis_thaliana_inflorescencias.jpg/800px-Arabidopsis_thaliana_inflorescencias.jpg</a></td></tr></table><div class=\"tinfo\">Total: 2, Shown: 2</div></div>"
      ]
     },
     "metadata": {},
     "output_type": "display_data"
    }
   ],
   "source": [
    "PREFIX up: <http://purl.uniprot.org/core/>\n",
    "PREFIX foaf: <http://xmlns.com/foaf/0.1/>\n",
    "\n",
    "SELECT ?pictures\n",
    "\n",
    "# Asking for the pictures associated to the specie \"Arabidopsis tahliana\"\n",
    "WHERE {\n",
    "  ?specie up:scientificName \"Arabidopsis thaliana\" .\n",
    "  ?specie foaf:depiction ?pictures .\n",
    "}"
   ]
  },
  {
   "cell_type": "markdown",
   "id": "1f992fb8",
   "metadata": {},
   "source": [
    "Q4: 1 POINT:  What is the description of the enzyme activity of UniProt Protein Q9SZZ8 "
   ]
  },
  {
   "cell_type": "code",
   "execution_count": 5,
   "id": "836693b6",
   "metadata": {},
   "outputs": [
    {
     "data": {
      "text/html": [
       "<div class=\"krn-spql\"><table><tr class=hdr><th>reaction</th></tr><tr class=odd><td class=val>Beta-carotene + 4 reduced ferredoxin [iron-sulfur] cluster + 2 H(+) + 2 O(2) = zeaxanthin + 4 oxidized ferredoxin [iron-sulfur] cluster + 2 H(2)O.</td></tr></table><div class=\"tinfo\">Total: 1, Shown: 1</div></div>"
      ]
     },
     "metadata": {},
     "output_type": "display_data"
    }
   ],
   "source": [
    "PREFIX up:<http://purl.uniprot.org/core/>\n",
    "PREFIX uniprotkb:<http://purl.uniprot.org/uniprot/>\n",
    "PREFIX rdfs:<http://www.w3.org/2000/01/rdf-schema#> \n",
    "\n",
    "SELECT ?reaction\n",
    "\n",
    "# We ask for the UniProt Q9SZZ8 enzyme, for its activity and the label of that activity (reaction catalyzed)\n",
    "WHERE { \n",
    "    uniprotkb:Q9SZZ8 up:enzyme ?protein .\n",
    "    ?protein up:activity ?activity .\n",
    "    ?activity rdfs:label ?reaction .\n",
    "}"
   ]
  },
  {
   "cell_type": "markdown",
   "id": "52837836",
   "metadata": {},
   "source": [
    "Q5: 1 POINT:  Retrieve the proteins ids, and date of submission, for proteins that have been added to UniProt this year   (HINT Google for “SPARQL FILTER by date”)"
   ]
  },
  {
   "cell_type": "code",
   "execution_count": 6,
   "id": "c864cf77",
   "metadata": {},
   "outputs": [
    {
     "data": {
      "text/html": [
       "<div class=\"krn-spql\"><table><tr class=hdr><th>protein</th>\n",
       "<th>creation_date</th></tr><tr class=odd><td class=val><a href=\"http://purl.uniprot.org/uniprot/A0A1H7ADE3\" target=\"_other\">http://purl.uniprot.org/uniprot/A0A1H7ADE3</a></td>\n",
       "<td class=val>2021-06-02</td></tr><tr class=even><td class=val><a href=\"http://purl.uniprot.org/uniprot/A0A1V1AIL4\" target=\"_other\">http://purl.uniprot.org/uniprot/A0A1V1AIL4</a></td>\n",
       "<td class=val>2021-06-02</td></tr><tr class=odd><td class=val><a href=\"http://purl.uniprot.org/uniprot/A0A2Z0L603\" target=\"_other\">http://purl.uniprot.org/uniprot/A0A2Z0L603</a></td>\n",
       "<td class=val>2021-06-02</td></tr><tr class=even><td class=val><a href=\"http://purl.uniprot.org/uniprot/A0A4J5GG53\" target=\"_other\">http://purl.uniprot.org/uniprot/A0A4J5GG53</a></td>\n",
       "<td class=val>2021-04-07</td></tr><tr class=odd><td class=val><a href=\"http://purl.uniprot.org/uniprot/A0A6G8SU52\" target=\"_other\">http://purl.uniprot.org/uniprot/A0A6G8SU52</a></td>\n",
       "<td class=val>2021-02-10</td></tr></table><div class=\"tinfo\">Total: 5, Shown: 5</div></div>"
      ]
     },
     "metadata": {},
     "output_type": "display_data"
    }
   ],
   "source": [
    "PREFIX up: <http://purl.uniprot.org/core/>\n",
    "PREFIX xsd: <http://www.w3.org/2001/XMLSchema#>\n",
    "\n",
    "SELECT ?protein ?creation_date\n",
    "\n",
    "# We ask for the protein creation date to be between the days 2021-01-01 and 2021-12-31 (both included)\n",
    "WHERE {\n",
    "    ?protein a up:Protein .\n",
    "    ?protein up:created ?creation_date .\n",
    "    FILTER (?creation_date >= xsd:date(\"2021-01-01\") && ?creation_date <= xsd:date(\"2021-12-31\")) .\n",
    "} LIMIT 5"
   ]
  },
  {
   "cell_type": "markdown",
   "id": "77048f85",
   "metadata": {},
   "source": [
    "Q6: 1 POINT How  many species are in the UniProt taxonomy?"
   ]
  },
  {
   "cell_type": "code",
   "execution_count": 7,
   "id": "15a3269c",
   "metadata": {},
   "outputs": [
    {
     "data": {
      "text/html": [
       "<div class=\"krn-spql\"><table><tr class=hdr><th>number_of_species</th></tr><tr class=odd><td class=val>2848758</td></tr></table><div class=\"tinfo\">Total: 1, Shown: 1</div></div>"
      ]
     },
     "metadata": {},
     "output_type": "display_data"
    }
   ],
   "source": [
    "PREFIX up: <http://purl.uniprot.org/core/>\n",
    "\n",
    "SELECT (COUNT (?specie) AS ?number_of_species)\n",
    "\n",
    "# We ask for the \"resource\" tagged with the rdf:type (\"a\") \"up:Taxon\"\n",
    "WHERE {\n",
    "  ?specie a up:Taxon .\n",
    "}"
   ]
  },
  {
   "cell_type": "markdown",
   "id": "0b32443c",
   "metadata": {},
   "source": [
    "Q7: 2 POINT  How many species have at least one protein record? (this might take a long time to execute, so do this one last!)"
   ]
  },
  {
   "cell_type": "code",
   "execution_count": 11,
   "id": "bb8dc6b8",
   "metadata": {},
   "outputs": [
    {
     "data": {
      "text/html": [
       "<div class=\"krn-spql\"><table><tr class=hdr><th>count</th></tr><tr class=odd><td class=val>0</td></tr></table><div class=\"tinfo\">Total: 1, Shown: 1</div></div>"
      ]
     },
     "metadata": {},
     "output_type": "display_data"
    }
   ],
   "source": [
    "PREFIX up: <http://purl.uniprot.org/core/>\n",
    "\n",
    "SELECT (COUNT (DISTINCT ?specie) AS ?count)\n",
    "\n",
    "WHERE {\n",
    "  ?protein a up:Protein .\n",
    "  ?protein up:organism ?specie .\n",
    "  ?specie a up:Taxon .\n",
    "  ?specie up:rank up:Species .\n",
    "}"
   ]
  },
  {
   "cell_type": "markdown",
   "id": "5f50146b",
   "metadata": {},
   "source": [
    "Q8: 3 points:  find the AGI codes and gene names for all Arabidopsis thaliana  proteins that have a protein function annotation description that mentions “pattern formation”"
   ]
  },
  {
   "cell_type": "code",
   "execution_count": 8,
   "id": "8ca7a311",
   "metadata": {},
   "outputs": [
    {
     "data": {
      "text/html": [
       "<div class=\"krn-spql\"><table><tr class=hdr><th>agi</th>\n",
       "<th>gene_label</th></tr><tr class=odd><td class=val>At3g54220</td>\n",
       "<td class=val>SCR</td></tr><tr class=even><td class=val>At4g21750</td>\n",
       "<td class=val>ATML1</td></tr><tr class=odd><td class=val>At1g13980</td>\n",
       "<td class=val>GN</td></tr><tr class=even><td class=val>At5g40260</td>\n",
       "<td class=val>SWEET8</td></tr><tr class=odd><td class=val>At1g69670</td>\n",
       "<td class=val>CUL3B</td></tr><tr class=even><td class=val>At1g63700</td>\n",
       "<td class=val>YDA</td></tr><tr class=odd><td class=val>At2g46710</td>\n",
       "<td class=val>ROPGAP3</td></tr><tr class=even><td class=val>At1g26830</td>\n",
       "<td class=val>CUL3A</td></tr><tr class=odd><td class=val>At1g55325</td>\n",
       "<td class=val>MED13</td></tr><tr class=even><td class=val>At3g09090</td>\n",
       "<td class=val>DEX1</td></tr><tr class=odd><td class=val>At3g09090</td>\n",
       "<td class=val>DEX1</td></tr><tr class=even><td class=val>At4g37650</td>\n",
       "<td class=val>SHR</td></tr><tr class=odd><td class=val>At5g55250</td>\n",
       "<td class=val>IAMT1</td></tr><tr class=even><td class=val>At3g02130</td>\n",
       "<td class=val>RPK2</td></tr><tr class=odd><td class=val>At2g42580</td>\n",
       "<td class=val>TTL3</td></tr><tr class=even><td class=val>At1g69270</td>\n",
       "<td class=val>RPK1</td></tr><tr class=odd><td class=val>At5g02010</td>\n",
       "<td class=val>ROPGEF7</td></tr><tr class=even><td class=val>At1g66470</td>\n",
       "<td class=val>RHD6</td></tr><tr class=odd><td class=val>At5g37800</td>\n",
       "<td class=val>RSL1</td></tr><tr class=even><td class=val>At1g49770</td>\n",
       "<td class=val>BHLH95</td></tr></table><div class=\"tinfo\">Total: 20, Shown: 20</div></div>"
      ]
     },
     "metadata": {},
     "output_type": "display_data"
    }
   ],
   "source": [
    "PREFIX up: <http://purl.uniprot.org/core/>\n",
    "PREFIX skos: <http://www.w3.org/2004/02/skos/core#>\n",
    "PREFIX rdfs:<http://www.w3.org/2000/01/rdf-schema#>\n",
    "\n",
    "SELECT ?agi ?gene_label\n",
    "\n",
    "WHERE {    \n",
    "    ?protein a up:Protein . # all proteins\n",
    "    ?protein up:organism ?specie . # get specie\n",
    "    ?protein up:encodedBy ?gene . # get gene\n",
    "    ?protein up:annotation ?f_annotation .# get function annotation\n",
    "    \n",
    "    ?specie up:scientificName \"Arabidopsis thaliana\" . \n",
    "    # get those one with the specie scientific name corresponding to \"Arabidopsis thaliana\" \n",
    "    \n",
    "    ?f_annotation rdfs:comment ?f_annotation_desc . # get function annotation description\n",
    "    FILTER REGEX (?f_annotation_desc, \"pattern formation\", \"i\") . \n",
    "    # and filter (get only) those one with \"pattern formation\" regular expression in its description (\"i\", insensitive to case)\n",
    "    \n",
    "    ?gene up:locusName ?agi . # get the AGI code of the gene\n",
    "    ?gene skos:prefLabel ?gene_label . # get the gene label (name)\n",
    "}"
   ]
  },
  {
   "cell_type": "markdown",
   "id": "16f1aafa",
   "metadata": {},
   "source": [
    "Q9: 4 POINTS:  what is the MetaNetX Reaction identifier (starts with “mnxr”) for the UniProt Protein uniprotkb:Q18A79"
   ]
  },
  {
   "cell_type": "code",
   "execution_count": 9,
   "id": "b88a17b2",
   "metadata": {},
   "outputs": [
    {
     "data": {
      "text/html": [
       "<div class=\"krn-spql\"><div class=\"magic\">Endpoint set to: https://rdf.metanetx.org/sparql</div></div>"
      ],
      "text/plain": [
       "Endpoint set to: https://rdf.metanetx.org/sparql\n"
      ]
     },
     "metadata": {},
     "output_type": "display_data"
    }
   ],
   "source": [
    "#Defining the new endpoint\n",
    "%endpoint https://rdf.metanetx.org/sparql"
   ]
  },
  {
   "cell_type": "code",
   "execution_count": 10,
   "id": "bb5c08b2",
   "metadata": {},
   "outputs": [
    {
     "data": {
      "text/html": [
       "<div class=\"krn-spql\"><table><tr class=hdr><th>mnxr_label</th></tr><tr class=odd><td class=val>mnxr165934</td></tr><tr class=even><td class=val>mnxr145046c3</td></tr></table><div class=\"tinfo\">Total: 2, Shown: 2</div></div>"
      ]
     },
     "metadata": {},
     "output_type": "display_data"
    }
   ],
   "source": [
    "PREFIX uniprotkb: <http://purl.uniprot.org/uniprot/>\n",
    "PREFIX mnx: <https://rdf.metanetx.org/schema/>\n",
    "\n",
    "SELECT DISTINCT ?mnxr_label\n",
    "\n",
    "WHERE {\n",
    "    ?mnx_pept mnx:peptXref uniprotkb:Q18A79 . # get the mnx_pept of the UniProtKB protein Q18A79\n",
    "    ?mnx_cata mnx:pept ?mnx_pept . # get the mnx_cata from the previous mnx_pept\n",
    "    ?mnx_gpr mnx:cata ?mnx_cata . # get mnx_gpr using mnx_cata\n",
    "    ?mnx_gpr mnx:reac ?mnx_reac . # get mnx_reac\n",
    "    ?mnx_reac rdfs:label ?mnxr_label . # get the label of that mnx_reac (mnxr_label)\n",
    "}"
   ]
  },
  {
   "cell_type": "markdown",
   "id": "a0d4d44b",
   "metadata": {},
   "source": [
    "Q10: 5 POINTS:  What is the official Gene ID (UniProt calls this a “mnemonic”) and the MetaNetX Reaction identifier (mnxr…..) for the protein that has “Starch synthase” catalytic activity in Clostridium difficile (taxon 272563)."
   ]
  },
  {
   "cell_type": "code",
   "execution_count": null,
   "id": "c8500530",
   "metadata": {},
   "outputs": [],
   "source": []
  }
 ],
 "metadata": {
  "kernelspec": {
   "display_name": "SPARQL",
   "language": "sparql",
   "name": "sparql"
  },
  "language_info": {
   "codemirror_mode": {
    "name": "sparql"
   },
   "mimetype": "application/sparql-query",
   "name": "sparql",
   "pygments_lexer": "sparql-nb"
  }
 },
 "nbformat": 4,
 "nbformat_minor": 5
}
