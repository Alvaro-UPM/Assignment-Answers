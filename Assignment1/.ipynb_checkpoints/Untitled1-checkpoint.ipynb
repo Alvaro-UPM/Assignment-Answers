{
 "cells": [
  {
   "cell_type": "code",
   "execution_count": 32,
   "metadata": {},
   "outputs": [
    {
     "data": {
      "text/plain": [
       "\"A334\""
      ]
     },
     "execution_count": 32,
     "metadata": {},
     "output_type": "execute_result"
    }
   ],
   "source": [
    "require \"/home/osboxes/Course/Bioinfo_ProgrammingChallenges/Assignment1/Class_Seed_Stock.rb\"\n",
    "\n",
    "seed_stock_data = File.new(\"/home/osboxes/Course/Bioinfo_ProgrammingChallenges/Assignment1/StockDatabaseDataFiles/seed_stock_data.tsv\", \"r\")\n",
    "\n",
    "seed_stock_data_lines = File.readlines(seed_stock_data)\n",
    "seed_stock_data_lines.delete(seed_stock_data_lines[0])\n",
    "i=0\n",
    "seed_stock_list = []\n",
    "seed_stock_data_lines.each do |x|\n",
    "  seed_stock_list[i] = Seed_Stock.new(x)\n",
    "  i=i+1\n",
    "end\n",
    "seed_stock_list[0].seed_stock"
   ]
  },
  {
   "cell_type": "code",
   "execution_count": 54,
   "metadata": {},
   "outputs": [
    {
     "data": {
      "text/plain": [
       "#<File:/home/osboxes/Course/Bioinfo_ProgrammingChallenges/Assignment1/StockDatabaseDataFiles/seed_stock_data.tsv>"
      ]
     },
     "execution_count": 54,
     "metadata": {},
     "output_type": "execute_result"
    }
   ],
   "source": [
    "require \"/home/osboxes/Course/Bioinfo_ProgrammingChallenges/Assignment1/Class_Seed_Stock.rb\"\n",
    "require \"/home/osboxes/Course/Bioinfo_ProgrammingChallenges/Assignment1/Class_New_Seed_Stock.rb\"\n",
    "seed_stock_data = File.new(\"/home/osboxes/Course/Bioinfo_ProgrammingChallenges/Assignment1/StockDatabaseDataFiles/seed_stock_data.tsv\", \"r\")"
   ]
  },
  {
   "cell_type": "code",
   "execution_count": 56,
   "metadata": {},
   "outputs": [
    {
     "data": {
      "text/plain": [
       "[#<New_Seed_Stock:0x000055b40a7ac128 @seed_stock=\"A334\", @gene_id=\"AT1G69120\", @last_planted=\"5/7/2014\", @storage=\"cama2\", @grams_remaining=21>, #<New_Seed_Stock:0x000055b40a7a3f00 @seed_stock=\"A348\", @gene_id=\"AT4G36920\", @last_planted=\"3/11/2013\", @storage=\"cama25\", @grams_remaining=5>, #<New_Seed_Stock:0x000055b40a7a3d20 @seed_stock=\"B3334\", @gene_id=\"AT3G54340\", @last_planted=\"1/12/2014\", @storage=\"cama18\", @grams_remaining=15>, #<New_Seed_Stock:0x000055b40a7a3b40 @seed_stock=\"A51\", @gene_id=\"AT1G30950\", @last_planted=\"9/2/2013\", @storage=\"cama25\", @grams_remaining=-2>, #<New_Seed_Stock:0x000055b40a7a3960 @seed_stock=\"B52\", @gene_id=\"AT5G20240\", @last_planted=\"8/11/2012\", @storage=\"cama16\", @grams_remaining=0>]"
      ]
     },
     "execution_count": 56,
     "metadata": {},
     "output_type": "execute_result"
    }
   ],
   "source": [
    "seed_stock_data_lines = File.readlines(seed_stock_data)\n",
    "seed_stock_data_lines.delete(seed_stock_data_lines[0])\n",
    "i=0\n",
    "new_seed_stock_array = []\n",
    "seed_stock_data_lines.each do |x|\n",
    "  new_seed_stock_array[i] = New_Seed_Stock.new(x, 7)\n",
    "  i=i+1\n",
    "end\n",
    "new_seed_stock_array "
   ]
  },
  {
   "cell_type": "code",
   "execution_count": 57,
   "metadata": {},
   "outputs": [
    {
     "data": {
      "text/plain": [
       "[#<New_Seed_Stock:0x000055b40a7ac128 @seed_stock=\"A334\", @gene_id=\"AT1G69120\", @last_planted=\"5/7/2014\", @storage=\"cama2\", @grams_remaining=21>, #<New_Seed_Stock:0x000055b40a7a3f00 @seed_stock=\"A348\", @gene_id=\"AT4G36920\", @last_planted=\"3/11/2013\", @storage=\"cama25\", @grams_remaining=5>, #<New_Seed_Stock:0x000055b40a7a3d20 @seed_stock=\"B3334\", @gene_id=\"AT3G54340\", @last_planted=\"1/12/2014\", @storage=\"cama18\", @grams_remaining=15>, #<New_Seed_Stock:0x000055b40a7a3b40 @seed_stock=\"A51\", @gene_id=\"AT1G30950\", @last_planted=\"9/2/2013\", @storage=\"cama25\", @grams_remaining=-2>, #<New_Seed_Stock:0x000055b40a7a3960 @seed_stock=\"B52\", @gene_id=\"AT5G20240\", @last_planted=\"8/11/2012\", @storage=\"cama16\", @grams_remaining=0>]"
      ]
     },
     "execution_count": 57,
     "metadata": {},
     "output_type": "execute_result"
    }
   ],
   "source": [
    "require \"csv\"\n",
    "\n",
    "CSV.open(\"new_stock_file.tsv\", \"w\") do |tsv|\n",
    "  new_seed_stock_array.each do |x|\n",
    "    tsv << [x.seed_stock, x.gene_id, x.last_planted, x.storage, x.grams_remaining]\n",
    "  end\n",
    "end\n"
   ]
  },
  {
   "cell_type": "code",
   "execution_count": 60,
   "metadata": {},
   "outputs": [
    {
     "data": {
      "text/plain": [
       "false"
      ]
     },
     "execution_count": 60,
     "metadata": {},
     "output_type": "execute_result"
    }
   ],
   "source": [
    "require \"/home/osboxes/Course/Bioinfo_ProgrammingChallenges/Assignment1/Class_Seed_Stock.rb\"\n",
    "require \"/home/osboxes/Course/Bioinfo_ProgrammingChallenges/Assignment1/Class_New_Seed_Stock.rb\""
   ]
  }
 ],
 "metadata": {
  "kernelspec": {
   "display_name": "Ruby 2.5.1",
   "language": "ruby",
   "name": "ruby"
  },
  "language_info": {
   "file_extension": ".rb",
   "mimetype": "application/x-ruby",
   "name": "ruby",
   "version": "2.5.1"
  }
 },
 "nbformat": 4,
 "nbformat_minor": 2
}
